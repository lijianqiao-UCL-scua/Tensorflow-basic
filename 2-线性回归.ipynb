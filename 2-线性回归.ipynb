{
 "cells": [
  {
   "cell_type": "markdown",
   "metadata": {},
   "source": [
    "# 线性回归"
   ]
  },
  {
   "cell_type": "markdown",
   "metadata": {},
   "source": [
    "如何在 TensorFlow 2 中构建、求解和进行预测模型。我们将专注于一种简单的模型类型——线性回归模型，并尝试预测房屋价格。通过关卡的学习，将学习如何加载和处理数据，构建损失函数，进行最小化操作，进行预测，并通过批量训练降低资源使用。"
   ]
  },
  {
   "cell_type": "code",
   "execution_count": 13,
   "metadata": {},
   "outputs": [],
   "source": [
    "import tensorflow as tf\n",
    "import pandas as pd\n",
    "import numpy as np"
   ]
  },
  {
   "cell_type": "markdown",
   "metadata": {},
   "source": [
    "## 导入数据"
   ]
  },
  {
   "cell_type": "markdown",
   "metadata": {},
   "source": [
    "在训练深度学习模型之前，必须先导入数据。，我们将使用来自pandas的一个简单的一行代码：`pd.read_csv()`。"
   ]
  },
  {
   "cell_type": "code",
   "execution_count": 21,
   "metadata": {},
   "outputs": [
    {
     "name": "stdout",
     "output_type": "stream",
     "text": [
      "0        221900.0\n",
      "1        538000.0\n",
      "2        180000.0\n",
      "3        604000.0\n",
      "4        510000.0\n",
      "           ...   \n",
      "21608    360000.0\n",
      "21609    400000.0\n",
      "21610    402101.0\n",
      "21611    400000.0\n",
      "21612    325000.0\n",
      "Name: price, Length: 21613, dtype: float64\n"
     ]
    }
   ],
   "source": [
    "# 导入房价数据\n",
    "housing = pd.read_csv(\"../data/kc_house_data.csv\")\n",
    "\n",
    "# 打印房价数据\n",
    "print(housing['price'])"
   ]
  },
  {
   "cell_type": "markdown",
   "metadata": {},
   "source": [
    "### 设置数据类型\n",
    "- 使用pandas和numpy设置数据类型 \n",
    "- 使用tf.cast设置数据类型"
   ]
  },
  {
   "cell_type": "code",
   "execution_count": 22,
   "metadata": {},
   "outputs": [
    {
     "name": "stdout",
     "output_type": "stream",
     "text": [
      "[221900. 538000. 180000. ... 402101. 400000. 325000.]\n",
      "tf.Tensor([False False False ... False False False], shape=(21613,), dtype=bool)\n"
     ]
    }
   ],
   "source": [
    "# 使用numpy设置数据类型\n",
    "price = np.array(housing['price'],np.float32)\n",
    "\n",
    "# 使用tf.cast设置waterfront数据类型\n",
    "waterfront = tf.cast(housing['waterfront'], tf.bool)\n",
    "\n",
    "# 打印pirce和watetfront\n",
    "print(price)\n",
    "print(waterfront)"
   ]
  },
  {
   "cell_type": "markdown",
   "metadata": {},
   "source": [
    "## 损失函数\n",
    "- 深度学习中的基本要素\n",
    "    - 用来训练模型\n",
    "    - 测度模型的拟合程度\n",
    "- 常用的损失函数\n",
    "    - 均方误差（mse）tf.keras.losses.mse()\n",
    "        - 强烈的异常值惩罚机制、最小值附近具有高灵敏度\n",
    "    - 平均绝对误差（mae）tf.keras.losses.mae()\n",
    "        - 误差与大小呈现线性比例、最小值附近具有低灵敏度\n",
    "\n"
   ]
  },
  {
   "cell_type": "markdown",
   "metadata": {},
   "source": [
    "### 在TensorFlow中使用损失函数"
   ]
  },
  {
   "cell_type": "markdown",
   "metadata": {},
   "source": [
    "使用King County房屋数据集中的数据计算损失。我们有一个目标tensor price，它是一个包含房价`price`的张量，还有一个预测的房价张量`predictions`。我们将构建评估损失函数，并打印出损失的值。"
   ]
  },
  {
   "cell_type": "code",
   "execution_count": 23,
   "metadata": {},
   "outputs": [],
   "source": [
    "kc_sample = pd.read_csv('../data/loss_price.csv')\n",
    "price = kc_sample['price'].to_numpy()\n",
    "predictions = kc_sample['pred'].to_numpy()"
   ]
  },
  {
   "cell_type": "code",
   "execution_count": 24,
   "metadata": {},
   "outputs": [
    {
     "name": "stdout",
     "output_type": "stream",
     "text": [
      "141171604777.12717\n"
     ]
    }
   ],
   "source": [
    "# 计算均方误差\n",
    "loss = tf.keras.losses.mse(price,predictions)\n",
    "\n",
    "# 打印\n",
    "print(loss.numpy())"
   ]
  },
  {
   "cell_type": "code",
   "execution_count": 25,
   "metadata": {},
   "outputs": [
    {
     "name": "stdout",
     "output_type": "stream",
     "text": [
      "268827.9930208799\n"
     ]
    }
   ],
   "source": [
    "# 计算平均绝对误差 (mse)\n",
    "loss = tf.keras.losses.mae(price,predictions)\n",
    "\n",
    "#  打印\n",
    "print(loss.numpy())"
   ]
  },
  {
   "cell_type": "markdown",
   "metadata": {},
   "source": [
    "即使price和predictions相同，MAE的值要比MSE小得多。这是因为不同的损失函数以不同的方式惩罚predictions与price之间的偏差。MSE不喜欢大的偏差，并且会严厉地惩罚它们。"
   ]
  },
  {
   "cell_type": "markdown",
   "metadata": {},
   "source": [
    "### 调整损失函数"
   ]
  },
  {
   "cell_type": "markdown",
   "metadata": {},
   "source": [
    "现在我们来构建一个可以训练模型变量的损失函数，返回函数的损失值。在我们的实践深度学习的中，我们通常会把我们的损失传递给优化器"
   ]
  },
  {
   "cell_type": "code",
   "execution_count": 19,
   "metadata": {},
   "outputs": [],
   "source": [
    "features = tf.constant([1, 2, 3, 4, 5], dtype=tf.float32)\n",
    "targets = tf.constant([2, 4, 6, 8, 10], dtype=tf.float32)"
   ]
  },
  {
   "cell_type": "code",
   "execution_count": 27,
   "metadata": {},
   "outputs": [
    {
     "name": "stdout",
     "output_type": "stream",
     "text": [
      "3.0\n"
     ]
    }
   ],
   "source": [
    "#初始化变量为scalar\n",
    "scalar = tf.Variable(1.0,tf.float32)\n",
    "\n",
    "# 定义模型\n",
    "def model(scalar, features=features):\n",
    "    return scalar*features\n",
    "    \n",
    "\n",
    "# 定于损失函数\n",
    "def loss_function(scalar, features=features, targets=targets):\n",
    "    # 计算预测值\n",
    "    predictions = model(scalar,features)\n",
    "    \n",
    "    # 返回平均绝对误差\n",
    "    return tf.keras.losses.mae(targets,predictions)\n",
    "\n",
    "# 打印损失值\n",
    "print(loss_function(scalar).numpy())"
   ]
  },
  {
   "cell_type": "markdown",
   "metadata": {},
   "source": [
    "## 线性回归"
   ]
  },
  {
   "cell_type": "markdown",
   "metadata": {},
   "source": [
    "### 构建线性回归模型\n",
    "我们尝试构建一个单个特征与目标张量关系的线性回归模型。我们使用房价的价格(price)和面积(size),我们将会取它们的自然对数\n",
    "\n",
    "除了定义模型，我们还会定义一个损失函数。我们将通过不同的斜率和截距来评估我们的损失函数的值。"
   ]
  },
  {
   "cell_type": "code",
   "execution_count": 48,
   "metadata": {},
   "outputs": [],
   "source": [
    "size_log = np.log(np.array(housing['sqft_lot'], np.float32))\n",
    "price_log = np.log(np.array(housing['price'], np.float32))\n",
    "bedrooms = np.array(housing['bedrooms'], np.float32)"
   ]
  },
  {
   "cell_type": "code",
   "execution_count": 50,
   "metadata": {},
   "outputs": [
    {
     "name": "stdout",
     "output_type": "stream",
     "text": [
      "145.44653\n",
      "71.866\n"
     ]
    }
   ],
   "source": [
    "# 定义一个线性回归模型\n",
    "def linear_regression(intercept,slope,features=size_log):\n",
    "    return intercept+slope*features\n",
    "\n",
    "#构建损失函数\n",
    "def loss_function(intercept, slope, features=size_log, targets=price_log):\n",
    "    # Set the predicted values\n",
    "    predictions =linear_regression(intercept,slope,features)\n",
    "    \n",
    "    # Return the mean squared error loss\n",
    "    return tf.keras.losses.mse(targets, predictions)\n",
    "\n",
    "#打印不同截距和斜率下损失函数的值\n",
    "print(loss_function(0.1, 0.1).numpy())\n",
    "print(loss_function(0.1, 0.5).numpy())"
   ]
  },
  {
   "cell_type": "markdown",
   "metadata": {},
   "source": [
    "### 训练线性回归模型\n",
    "那么我们训练模型的目前就是为了最小化损失，寻找出最佳的斜率和截距`intercept`& `slope`。我们定义一个优化器`opt`来实现这个目标。\n",
    "我们需要**多次重复**去寻找损失函数的最小值！"
   ]
  },
  {
   "cell_type": "code",
   "execution_count": 52,
   "metadata": {},
   "outputs": [
    {
     "name": "stdout",
     "output_type": "stream",
     "text": [
      "65.26133\n",
      "1.4909137\n",
      "2.3818183\n",
      "2.9086726\n",
      "2.6110854\n",
      "1.7604771\n",
      "1.3467993\n",
      "1.3559676\n",
      "1.288407\n",
      "1.2425306\n"
     ]
    }
   ],
   "source": [
    "intercept = tf.Variable(0.0, tf.float32)\n",
    "slope = tf.Variable(0.0, tf.float32)\n",
    "\n",
    "# 定义优化器\n",
    "opt = tf.keras.optimizers.Adam(learning_rate=0.5)\n",
    "#寻找损失函数的最小值\n",
    "for j in range(100):\n",
    "    # 实现损失函数的最小化\n",
    "    opt.minimize(lambda: loss_function(intercept,slope),var_list=[intercept,slope])\n",
    "    \n",
    "    #打印损失值\n",
    "    if j%10==0:\n",
    "        print(loss_function(intercept,slope).numpy())\n"
   ]
  },
  {
   "cell_type": "code",
   "execution_count": 53,
   "metadata": {},
   "outputs": [],
   "source": [
    "#尝试绘制一下\n",
    "import matplotlib.pyplot as plt\n",
    "plt.rcParams['font.sans-serif'] = ['SimHei'] \n",
    "def plot_results(intercept, slope):\n",
    "    size_range = np.linspace(6,14,100)\n",
    "    price_pred = [intercept + slope * s for s in size_range]\n",
    "    plt.figure(figsize=(8, 8))\n",
    "    plt.scatter(size_log, price_log, color = 'black');\n",
    "    plt.plot(size_range, price_pred, linewidth=3.0, color='red');\n",
    "    plt.xlabel('面积log(size)');\n",
    "    plt.ylabel('价格log(price)');\n",
    "    plt.title('面积与价格的关系');\n",
    "    plt.show()"
   ]
  },
  {
   "cell_type": "code",
   "execution_count": 54,
   "metadata": {},
   "outputs": [
    {
     "data": {
      "image/png": "[encoded data removed]",
      "text/plain": [
       "<Figure size 576x576 with 1 Axes>"
      ]
     },
     "metadata": {
      "needs_background": "light"
     },
     "output_type": "display_data"
    }
   ],
   "source": [
    "plot_results(intercept, slope)"
   ]
  },
  {
   "cell_type": "markdown",
   "metadata": {},
   "source": [
    "在100次迭代中，我们每隔10次迭代就打印了loss_function(intercept, slope)的值。每次迭代，随着优化器将slope和intercept参数逐渐调整到它们的最佳值，损失函数的值也越来越接近最小值。"
   ]
  },
  {
   "cell_type": "markdown",
   "metadata": {},
   "source": [
    "### 多元线性回归\n",
    "大多数情况下，一元线性回归不太可能直接用于准确的预测模型。我们尝试一下多元线性回归\n",
    "\n",
    "我们将增加一个特征`bedrooms`作为我们的特征,前面我们已经定义好了。这次我们尝试去使用MAE平均绝对误差。\n",
    "最后我们的预测公式`params[0] + feature1 * params[1] + feature2 * params[2]`,注意：params是一个变量，在这里,`params[0]` 是截距，`params[1]` 和 `params[2]` 是斜率"
   ]
  },
  {
   "cell_type": "code",
   "execution_count": 42,
   "metadata": {},
   "outputs": [],
   "source": [
    "#定义一个函数打印params的结果\n",
    "def print_results(params):\n",
    "    return print('loss: {:0.3f}, intercept: {:0.3f}, slope_1: {:0.3f}, slope_2: {:0.3f}'\n",
    "                 .format(loss_function(params).numpy(), \n",
    "                         params[0].numpy(), \n",
    "                         params[1].numpy(), \n",
    "                         params[2].numpy()))"
   ]
  },
  {
   "cell_type": "code",
   "execution_count": 55,
   "metadata": {},
   "outputs": [
    {
     "name": "stdout",
     "output_type": "stream",
     "text": [
      "loss: 12.418, intercept: 0.101, slope_1: 0.051, slope_2: 0.021\n",
      "loss: 12.404, intercept: 0.102, slope_1: 0.052, slope_2: 0.022\n",
      "loss: 12.391, intercept: 0.103, slope_1: 0.053, slope_2: 0.023\n",
      "loss: 12.377, intercept: 0.104, slope_1: 0.054, slope_2: 0.024\n",
      "loss: 12.364, intercept: 0.105, slope_1: 0.055, slope_2: 0.025\n",
      "loss: 12.351, intercept: 0.106, slope_1: 0.056, slope_2: 0.026\n",
      "loss: 12.337, intercept: 0.107, slope_1: 0.057, slope_2: 0.027\n",
      "loss: 12.324, intercept: 0.108, slope_1: 0.058, slope_2: 0.028\n",
      "loss: 12.311, intercept: 0.109, slope_1: 0.059, slope_2: 0.029\n",
      "loss: 12.297, intercept: 0.110, slope_1: 0.060, slope_2: 0.030\n"
     ]
    }
   ],
   "source": [
    "params = tf.Variable([0.1, 0.05, 0.02], tf.float32)\n",
    "\n",
    "# 定义多元线性回归模型\n",
    "def linear_regression(params, feature1=size_log, feature2=bedrooms):\n",
    "    return params[0] + feature1 * params[1] + feature2 * params[2]\n",
    "\n",
    "# 定义损失函数\n",
    "def loss_function(params, targets=price_log, feature1=size_log, feature2=bedrooms):\n",
    "    # 构建预测值\n",
    "    predictions = linear_regression(params, feature1, feature2)\n",
    "    \n",
    "    return tf.keras.losses.mae(targets, predictions)\n",
    "\n",
    "#定义优化器\n",
    "opt = tf.keras.optimizers.Adam()\n",
    "\n",
    "#寻找损失函数的最小值\n",
    "for j in range(10):\n",
    "    opt.minimize(lambda: loss_function(params), var_list=[params])\n",
    "    print_results(params)"
   ]
  },
  {
   "cell_type": "markdown",
   "metadata": {},
   "source": [
    "## 批训练\n",
    "- 完整样本训练 vs 批训练\n",
    "    - 完整样本训练\n",
    "        1. 每个训练周期参数只更新一次\n",
    "        2. 接收的数据集不需要进行修改\n",
    "        3. 数据的大小有限制\n",
    "    - 批训练\n",
    "        1. 每个训练周期多次更新参数\n",
    "        2. 导入的数据集需要修改\n",
    "        3. 数据大小没有限制"
   ]
  },
  {
   "cell_type": "markdown",
   "metadata": {},
   "source": [
    "在批处理中训练线性模型之前，我们首先需要定义变量、损失函数和优化操作。在这个练习中，我们将准备训练一个模型，使用size_batch（一批房屋的占地面积）来预测price_batch（一批房屋的价格）。与之前的不同，我们将通过使用pandas加载数据批次，将其转换为NumPy数组，然后逐步最小化损失函数来完成这个任务。\n",
    "\n",
    "**请注意，不应为模型或损失函数设置默认参数值，因为我们将在训练过程中生成批次数据。**"
   ]
  },
  {
   "cell_type": "code",
   "execution_count": 57,
   "metadata": {},
   "outputs": [],
   "source": [
    "intercept = tf.Variable(10.0, tf.float32)\n",
    "slope = tf.Variable(0.5, tf.float32)\n",
    "\n",
    "# 定义模型\n",
    "def linear_regression(intercept, slope, features):\n",
    "    \n",
    "    return intercept + slope * features\n",
    "\n",
    "\n",
    "def loss_function(intercept, slope, targets, features):\n",
    "    \n",
    "    predictions = linear_regression(intercept, slope, features)\n",
    "    \n",
    "    \n",
    "    return tf.keras.losses.mse(targets, predictions)"
   ]
  },
  {
   "cell_type": "markdown",
   "metadata": {},
   "source": [
    "请注意，我们没有为输入数据`features`和`targets`使用默认参数值。这是因为输入数据没有提前定义。相反，在批处理训练中，我们将在训练过程中加载数据。\n",
    "\n",
    "\n",
    "\n",
    "\n",
    "\n"
   ]
  },
  {
   "cell_type": "markdown",
   "metadata": {},
   "source": [
    "我们将通过按批次迭代数据集，并在每个步骤后更新模型的变量intercept和slope来实现这一目标。这种方法将允许我们训练那些太大无法一次加载到内存中的数据集。\n",
    "\n",
    "注意：可训练的变量应按照它们在损失函数参数中出现的顺序输入到var_list中。"
   ]
  },
  {
   "cell_type": "code",
   "execution_count": 60,
   "metadata": {},
   "outputs": [
    {
     "name": "stdout",
     "output_type": "stream",
     "text": [
      "10.217888 0.7016001\n"
     ]
    }
   ],
   "source": [
    "intercept = tf.Variable(10.0, tf.float32)\n",
    "slope = tf.Variable(0.5, tf.float32)\n",
    "\n",
    "# 初始化优化器\n",
    "opt = tf.keras.optimizers.Adam()\n",
    "\n",
    "# 使用批处理导入数据\n",
    "for batch in pd.read_csv('../data/kc_house_data.csv',chunksize=100):\n",
    "    #提取一批数据\n",
    "    size_batch = np.array(batch['sqft_lot'], np.float32)\n",
    "    price_batch = np.array(batch['price'], np.float32)\n",
    "    \n",
    "    # 求解最小损失函数下斜率和截距\n",
    "    opt.minimize(lambda: loss_function(intercept,slope,price_batch,size_batch),var_list=[intercept,slope])\n",
    "# Print trained parameters\n",
    "print(intercept.numpy(), slope.numpy())"
   ]
  }
 ],
 "metadata": {
  "kernelspec": {
   "display_name": "Python 3.8.5 ('base')",
   "language": "python",
   "name": "python3"
  },
  "language_info": {
   "codemirror_mode": {
    "name": "ipython",
    "version": 3
   },
   "file_extension": ".py",
   "mimetype": "text/x-python",
   "name": "python",
   "nbconvert_exporter": "python",
   "pygments_lexer": "ipython3",
   "version": "3.8.5"
  },
  "orig_nbformat": 4,
  "vscode": {
   "interpreter": {
    "hash": "587a2e50e85b4f56756ab2c01631d0260799c2c0691c88ec45388e613d7a7cba"
   }
  }
 },
 "nbformat": 4,
 "nbformat_minor": 2
}
