{
 "cells": [
  {
   "cell_type": "markdown",
   "metadata": {},
   "source": [
    "# 在本地环境中配置TenorFlow"
   ]
  },
  {
   "cell_type": "markdown",
   "metadata": {},
   "source": [
    "### 1.TensorFlow、Python、cuDNN、CUDA版本之间的对应关系"
   ]
  },
  {
   "cell_type": "markdown",
   "metadata": {},
   "source": [
    "<img src=\"../img/tensorflow.png\" width=\"50%\" height=\"50%\">\n",
    "\n",
    "\n",
    "**对于原生的windows系统，我们推荐使用TensorFlow2.1.0版本**"
   ]
  },
  {
   "cell_type": "markdown",
   "metadata": {},
   "source": [
    "### 2.在国内的同学需要对安装环境的渠道进行修改"
   ]
  },
  {
   "cell_type": "markdown",
   "metadata": {},
   "source": [
    "```conda config --set show_channel_urls yes```\n"
   ]
  },
  {
   "cell_type": "markdown",
   "metadata": {},
   "source": [
    "*.condarc——修改文件源路径\n",
    "```\n",
    "channels:\n",
    "  - defaults\n",
    "show_channel_urls: true\n",
    "channel_alias: https://mirror.tuna.tsinghua.edu.cn/anaconda\n",
    "default_channels:\n",
    "  - https://mirror.tuna.tsinghua.edu.cn/anaconda/pkgs/main\n",
    "  - https://mirror.tuna.tsinghua.edu.cn/anaconda/pkgs/free\n",
    "  - https://mirror.tuna.tsinghua.edu.cn/anaconda/pkgs/r\n",
    "  - https://mirror.tuna.tsinghua.edu.cn/anaconda/pkgs/pro\n",
    "  - https://mirror.tuna.tsinghua.edu.cn/anaconda/pkgs/msys2\n",
    "custom_channels:\n",
    "  conda-forge: https://mirror.tuna.tsinghua.edu.cn/anaconda/cloud\n",
    "  msys2: https://mirror.tuna.tsinghua.edu.cn/anaconda/cloud\n",
    "  bioconda: https://mirror.tuna.tsinghua.edu.cn/anaconda/cloud\n",
    "  menpo: https://mirror.tuna.tsinghua.edu.cn/anaconda/cloud\n",
    "  pytorch: https://mirror.tuna.tsinghua.edu.cn/anaconda/cloud\n",
    "  simpleitk: https://mirror.tuna.tsinghua.edu.cn/anaconda/cloud\n",
    "  ```"
   ]
  },
  {
   "cell_type": "markdown",
   "metadata": {},
   "source": [
    "conda prompt中设置清华大学的镜像\n",
    "```conda clean -i```\n",
    "\n",
    "```pip config set global.index-url https://pypi.tuna.tsinghua.edu.cn/simple```"
   ]
  },
  {
   "cell_type": "markdown",
   "metadata": {},
   "source": [
    "## 3.安装TensorFlow-GPU"
   ]
  },
  {
   "cell_type": "markdown",
   "metadata": {},
   "source": [
    "创建tensorflow的环境\n",
    "\n",
    "```conda create -n tf21 python=3.7```\n",
    "\n",
    "激活我们创建的环境\n",
    "\n",
    "```activate tf21```\n",
    "\n",
    "安装对应Cuda,cuDNN的套件\n",
    "\n",
    "```conda install cudatoolkit=10.1```\n",
    "\n",
    "```conda install cudnn=7.6```\n",
    "\n",
    "\n",
    "安装相应版本的Tenorflow\n",
    "```pip install tensorflow-gpu==2.1.0```\n",
    "\n",
    "安装jupyter \n",
    "```pip install jupyter```\n",
    "\n"
   ]
  },
  {
   "cell_type": "code",
   "execution_count": 1,
   "metadata": {},
   "outputs": [
    {
     "name": "stdout",
     "output_type": "stream",
     "text": [
      "WARNING:tensorflow:From C:\\Users\\20228\\AppData\\Local\\Temp\\ipykernel_29556\\3840646789.py:3: is_gpu_available (from tensorflow.python.framework.test_util) is deprecated and will be removed in a future version.\n",
      "Instructions for updating:\n",
      "Use `tf.config.list_physical_devices('GPU')` instead.\n"
     ]
    },
    {
     "data": {
      "text/plain": [
       "True"
      ]
     },
     "execution_count": 1,
     "metadata": {},
     "output_type": "execute_result"
    }
   ],
   "source": [
    "#验证\n",
    "import tensorflow as tf\n",
    "tf.test.is_gpu_available()"
   ]
  },
  {
   "cell_type": "markdown",
   "metadata": {},
   "source": [
    "## 4.安装报错怎么办？"
   ]
  }
 ],
 "metadata": {
  "kernelspec": {
   "display_name": "Python 3.7.16 ('tensorflow21')",
   "language": "python",
   "name": "python3"
  },
  "language_info": {
   "codemirror_mode": {
    "name": "ipython",
    "version": 3
   },
   "file_extension": ".py",
   "mimetype": "text/x-python",
   "name": "python",
   "nbconvert_exporter": "python",
   "pygments_lexer": "ipython3",
   "version": "3.7.16"
  },
  "orig_nbformat": 4,
  "vscode": {
   "interpreter": {
    "hash": "5cabdafb301cbfbddfb5838ebe29ddc8dbe62b829b6b4db3d02c17bee212d805"
   }
  }
 },
 "nbformat": 4,
 "nbformat_minor": 2
}
